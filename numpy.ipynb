{
  "nbformat": 4,
  "nbformat_minor": 0,
  "metadata": {
    "colab": {
      "name": "numpy.ipynb",
      "provenance": [],
      "collapsed_sections": [],
      "authorship_tag": "ABX9TyOzNru9W53FDu5rVubZgXkw",
      "include_colab_link": true
    },
    "kernelspec": {
      "name": "python3",
      "display_name": "Python 3"
    },
    "language_info": {
      "name": "python"
    }
  },
  "cells": [
    {
      "cell_type": "markdown",
      "metadata": {
        "id": "view-in-github",
        "colab_type": "text"
      },
      "source": [
        "<a href=\"https://colab.research.google.com/github/zhoujiuzhou9/Django/blob/main/numpy.ipynb\" target=\"_parent\"><img src=\"https://colab.research.google.com/assets/colab-badge.svg\" alt=\"Open In Colab\"/></a>"
      ]
    },
    {
      "cell_type": "code",
      "execution_count": 2,
      "metadata": {
        "colab": {
          "base_uri": "https://localhost:8080/"
        },
        "id": "2R_Mc3yK2Mgj",
        "outputId": "1f804c74-e0b6-40b4-e213-d4fde42ce50c"
      },
      "outputs": [
        {
          "output_type": "stream",
          "name": "stdout",
          "text": [
            "0    NaN\n",
            "1    1.0\n",
            "2    2.0\n",
            "3    2.0\n",
            "4    3.0\n",
            "dtype: float64\n"
          ]
        }
      ],
      "source": [
        "import pandas as pd\n",
        "import numpy as np\n",
        "import matplotlib.pyplot as plt\n",
        "\n",
        "s = pd.Series([np.nan, 1, 2, np.nan, 3])\n",
        "s = s.fillna(method='ffill')\n",
        "\n",
        "print(s)"
      ]
    },
    {
      "cell_type": "code",
      "source": [
        "plt.subplot(2, 3, 3)"
      ],
      "metadata": {
        "colab": {
          "base_uri": "https://localhost:8080/",
          "height": 169
        },
        "id": "572T95RF_5cc",
        "outputId": "aacd26e5-134c-4cef-d20a-7dd2730e06bf"
      },
      "execution_count": null,
      "outputs": [
        {
          "output_type": "execute_result",
          "data": {
            "text/plain": [
              "<matplotlib.axes._subplots.AxesSubplot at 0x7f86ff7415d0>"
            ]
          },
          "metadata": {},
          "execution_count": 18
        },
        {
          "output_type": "display_data",
          "data": {
            "text/plain": [
              "<Figure size 432x288 with 1 Axes>"
            ],
            "image/png": "[encoded data removed]"
          },
          "metadata": {
            "needs_background": "light"
          }
        }
      ]
    },
    {
      "cell_type": "code",
      "source": [
        "# 默认为浮点数\n",
        "x = np.zeros(5) \n",
        "print(x)\n",
        " \n",
        "# 设置类型为整数\n",
        "y = np.zeros((5,), dtype = int) \n",
        "print(y)\n",
        " \n",
        "# 自定义类型\n",
        "z = np.zeros((2,2), dtype = [('x', 'i4'), ('y', 'i4')])  \n",
        "print(z)"
      ],
      "metadata": {
        "colab": {
          "base_uri": "https://localhost:8080/"
        },
        "id": "E0uakCkaIwJ6",
        "outputId": "58a438dd-fa21-459f-9000-f98919397008"
      },
      "execution_count": null,
      "outputs": [
        {
          "output_type": "stream",
          "name": "stdout",
          "text": [
            "[0. 0. 0. 0. 0.]\n",
            "[0 0 0 0 0]\n",
            "[[(0, 0) (0, 0)]\n",
            " [(0, 0) (0, 0)]]\n"
          ]
        }
      ]
    },
    {
      "cell_type": "code",
      "source": [
        "a=np.array([10,20,30,40])\n",
        "b=np.arange(4)\n",
        "print(a+b)\n",
        "c=b+a\n",
        "c=10*np.tan(a)\n",
        "print(c**2)\n",
        "\n",
        "print(b<3)\n",
        "\n"
      ],
      "metadata": {
        "id": "oIzriQf3mOhL",
        "colab": {
          "base_uri": "https://localhost:8080/"
        },
        "outputId": "cec896a7-4ccd-49ae-c68c-1ac124834615"
      },
      "execution_count": 26,
      "outputs": [
        {
          "output_type": "stream",
          "name": "stdout",
          "text": [
            "[10 21 32 43]\n",
            "[  42.03717626  500.48890904 4102.82677387  124.81692019]\n",
            "[ True  True  True False]\n"
          ]
        }
      ]
    },
    {
      "cell_type": "code",
      "source": [
        "a=np.random.random((2,4))\n",
        "\n",
        "print(a)\n",
        "print(np.sum(a))\n",
        "\n",
        "print(np.max(a))\n",
        "\n",
        "print(np.max(a,axis=0))\n",
        "print(np.max(a,axis=1))"
      ],
      "metadata": {
        "colab": {
          "base_uri": "https://localhost:8080/"
        },
        "id": "TTG_YDcaty3G",
        "outputId": "d421c651-535c-4e40-bd5e-473073f240b1"
      },
      "execution_count": 31,
      "outputs": [
        {
          "output_type": "stream",
          "name": "stdout",
          "text": [
            "[[0.81212778 0.69093138 0.86906128 0.89445161]\n",
            " [0.55974117 0.29564715 0.59016311 0.48147902]]\n",
            "5.193602493100921\n",
            "0.8944516112479829\n",
            "[0.81212778 0.69093138 0.86906128 0.89445161]\n",
            "[0.89445161 0.59016311]\n"
          ]
        }
      ]
    },
    {
      "cell_type": "code",
      "source": [
        "A=np.arange(2,14).reshape((3,4))\n",
        "\n",
        "print(A)\n",
        "print(np.argmin(A))\n",
        "print(np.argmax(A))\n",
        "print(np.mean(A))\n",
        "print(np.average(A))\n",
        "print(np.median(A))\n",
        "print(np.cumsum(A))\n",
        "print(np.diff(A))\n"
      ],
      "metadata": {
        "colab": {
          "base_uri": "https://localhost:8080/"
        },
        "id": "QUZEeq7XvvCF",
        "outputId": "9a569476-706d-46f4-b644-347eb59950f9"
      },
      "execution_count": 42,
      "outputs": [
        {
          "output_type": "stream",
          "name": "stdout",
          "text": [
            "[[ 2  3  4  5]\n",
            " [ 6  7  8  9]\n",
            " [10 11 12 13]]\n",
            "0\n",
            "11\n",
            "7.5\n",
            "7.5\n",
            "7.5\n",
            "[ 2  5  9 14 20 27 35 44 54 65 77 90]\n",
            "[[1 1 1]\n",
            " [1 1 1]\n",
            " [1 1 1]]\n"
          ]
        }
      ]
    },
    {
      "cell_type": "code",
      "source": [
        "A=np.arange(3,15).reshape(3,4)\n",
        "print(A)\n",
        "print(A[1][1])"
      ],
      "metadata": {
        "colab": {
          "base_uri": "https://localhost:8080/"
        },
        "id": "u9j3rZAa0r50",
        "outputId": "827155f2-b3cc-47c9-9339-dcd9a572fdaf"
      },
      "execution_count": 48,
      "outputs": [
        {
          "output_type": "stream",
          "name": "stdout",
          "text": [
            "[[ 3  4  5  6]\n",
            " [ 7  8  9 10]\n",
            " [11 12 13 14]]\n",
            "8\n"
          ]
        }
      ]
    },
    {
      "cell_type": "code",
      "source": [
        "A=np.array([1,1,1])\n",
        "B=np.array([2,2,4])\n",
        "\n",
        "print(np.vstack((A,B)))\n",
        "C=np.vstack((A,B))\n",
        "print(A.shape,C.shape)"
      ],
      "metadata": {
        "colab": {
          "base_uri": "https://localhost:8080/"
        },
        "id": "lpZPp6wi1Jed",
        "outputId": "dcbfe7b9-8fa9-43d4-a40b-86b0c70d98aa"
      },
      "execution_count": 52,
      "outputs": [
        {
          "output_type": "stream",
          "name": "stdout",
          "text": [
            "[[1 1 1]\n",
            " [2 2 4]]\n",
            "(3,) (2, 3)\n"
          ]
        }
      ]
    },
    {
      "cell_type": "code",
      "source": [
        "A=np.arange(12).reshape(3,4)\n",
        "print(A)\n",
        "\n",
        "print(np.split(A,2,axis=1))"
      ],
      "metadata": {
        "colab": {
          "base_uri": "https://localhost:8080/"
        },
        "id": "h1_aDh6D4nbG",
        "outputId": "beb355d5-24ab-466c-dd31-5261af1298f2"
      },
      "execution_count": 53,
      "outputs": [
        {
          "output_type": "stream",
          "name": "stdout",
          "text": [
            "[[ 0  1  2  3]\n",
            " [ 4  5  6  7]\n",
            " [ 8  9 10 11]]\n",
            "[array([[0, 1],\n",
            "       [4, 5],\n",
            "       [8, 9]]), array([[ 2,  3],\n",
            "       [ 6,  7],\n",
            "       [10, 11]])]\n"
          ]
        }
      ]
    },
    {
      "cell_type": "code",
      "source": [
        ""
      ],
      "metadata": {
        "id": "gzFEtHEF5BPl"
      },
      "execution_count": null,
      "outputs": []
    }
  ]
}